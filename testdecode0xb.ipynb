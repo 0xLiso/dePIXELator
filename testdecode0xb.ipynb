{
 "cells": [
  {
   "cell_type": "code",
   "execution_count": 4,
   "id": "utility-component",
   "metadata": {},
   "outputs": [],
   "source": [
    "from export_film import *"
   ]
  },
  {
   "cell_type": "code",
   "execution_count": 5,
   "id": "particular-harris",
   "metadata": {},
   "outputs": [
    {
     "data": {
      "text/plain": [
       "320"
      ]
     },
     "execution_count": 5,
     "metadata": {},
     "output_type": "execute_result"
    }
   ],
   "source": [
    "0x140"
   ]
  },
  {
   "cell_type": "code",
   "execution_count": null,
   "id": "silver-project",
   "metadata": {},
   "outputs": [],
   "source": []
  },
  {
   "cell_type": "code",
   "execution_count": 6,
   "id": "differential-transition",
   "metadata": {},
   "outputs": [],
   "source": [
    "#v = VIPFile(\"SN00002.VIP\", 0x0DF5B6A0, 10000)\n",
    "v = VIPFile(\"SN00002.VIP\", 0x20, 10000)"
   ]
  },
  {
   "cell_type": "code",
   "execution_count": 142,
   "id": "divided-bangkok",
   "metadata": {},
   "outputs": [
    {
     "name": "stdout",
     "output_type": "stream",
     "text": [
      "001480: [   580] 44 02 00 02 d4 03 60 c0  🎨\n",
      "001568: [   580] 44 02 00 02 0e 04 60 c0  🎨\n",
      "001596: [   580] 44 02 00 02 20 04 60 c0  🎨\n",
      "001597: [ 11971] c3 2e 02 0b 20 04 60 c0  📼\n",
      "001600: [ 11971] c3 2e 02 0b 22 04 60 c0  📼\n",
      "001603: [ 11971] c3 2e 02 0b 24 04 60 c0  📼\n",
      "001606: [ 11971] c3 2e 02 0b 26 04 60 c0  📼\n",
      "001609: [ 11971] c3 2e 02 0b 28 04 60 c0  📼\n",
      "001612: [ 11971] c3 2e 02 0b 2a 04 60 c0  📼\n",
      "001615: [ 11971] c3 2e 02 0b 2c 04 60 c0  📼\n",
      "001618: [ 11971] c3 2e 02 0b 2e 04 60 c0  📼\n",
      "001621: [ 11971] c3 2e 02 0b 30 04 60 c0  📼\n",
      "001624: [ 11891] 73 2e 02 0b 32 04 60 c0  📼\n",
      "001627: [ 11971] c3 2e 02 0b 34 04 60 c0  📼\n",
      "001630: [ 11971] c3 2e 02 0b 36 04 60 c0  📼\n",
      "001633: [ 11971] c3 2e 02 0b 38 04 60 c0  📼\n",
      "001636: [ 11971] c3 2e 02 0b 3a 04 60 c0  📼\n",
      "001639: [ 11971] c3 2e 02 0b 3c 04 60 c0  📼\n",
      "001642: [ 11971] c3 2e 02 0b 3e 04 60 c0  📼\n",
      "001645: [ 11971] c3 2e 02 0b 40 04 60 c0  📼\n",
      "001651: [   580] 44 02 00 02 44 04 60 c0  🎨\n",
      "001652: [ 11971] c3 2e 02 0b 44 04 60 c0  📼\n",
      "001655: [ 11971] c3 2e 02 0b 46 04 60 c0  📼\n",
      "001658: [ 11971] c3 2e 02 0b 48 04 60 c0  📼\n",
      "001661: [ 11971] c3 2e 02 0b 4a 04 60 c0  📼\n",
      "001664: [ 11971] c3 2e 02 0b 4c 04 60 c0  📼\n",
      "001667: [ 11971] c3 2e 02 0b 4e 04 60 c0  📼\n",
      "001670: [ 11971] c3 2e 02 0b 50 04 60 c0  📼\n",
      "001673: [ 11971] c3 2e 02 0b 52 04 60 c0  📼\n",
      "001676: [ 11971] c3 2e 02 0b 54 04 60 c0  📼\n",
      "001679: [ 11971] c3 2e 02 0b 56 04 60 c0  📼\n",
      "001682: [ 11971] c3 2e 02 0b 58 04 60 c0  📼\n",
      "001685: [ 11971] c3 2e 02 0b 5a 04 60 c0  📼\n",
      "001688: [ 11971] c3 2e 02 0b 5c 04 60 c0  📼\n",
      "001691: [ 11971] c3 2e 02 0b 5e 04 60 c0  📼\n",
      "001694: [ 11971] c3 2e 02 0b 60 04 60 c0  📼\n",
      "001697: [ 11971] c3 2e 02 0b 62 04 60 c0  📼\n"
     ]
    }
   ],
   "source": [
    "v.show_info(1479,1700,[\"📼\",\"🎨\"] )"
   ]
  },
  {
   "cell_type": "code",
   "execution_count": 112,
   "id": "settled-transmission",
   "metadata": {},
   "outputs": [],
   "source": [
    "maskaras = (\n",
    "        (0x00,0x00,0x00,0x00),\n",
    "        (0x00,0x1,0x00,0x00),\n",
    "        (0x00,0x00,0x1,0x00),\n",
    "        (0x00,0x1,0x1,0x00),\n",
    "        (0x00,0x00,0x00,0x1),\n",
    "        (0x00,0x1,0x00,0x1),\n",
    "        (0x00,0x00,0x1,0x1),\n",
    "        (0x00,0x1,0x1,0x1),\n",
    "        (0x00,0x00,0x00,0x00),\n",
    "        (0x1,0x1,0x00,0x00),\n",
    "        (0x1,0x00,0x1,0x00),\n",
    "        (0x1,0x1,0x1,0x00),\n",
    "        (0x1,0x00,0x00,0x1),\n",
    "        (0x1,0x1,0x00,0x1),\n",
    "        (0x1,0x00,0x1,0x1),\n",
    "        (0x1,0x1,0x1,0x1)\n",
    ")"
   ]
  },
  {
   "cell_type": "code",
   "execution_count": 46,
   "id": "fundamental-russia",
   "metadata": {},
   "outputs": [
    {
     "ename": "TypeError",
     "evalue": "a bytes-like object is required, not 'list'",
     "output_type": "error",
     "traceback": [
      "\u001b[0;31m\u001b[0m",
      "\u001b[0;31mTypeError\u001b[0mTraceback (most recent call last)",
      "\u001b[0;32m<ipython-input-46-20c4c8b80e68>\u001b[0m in \u001b[0;36m<module>\u001b[0;34m\u001b[0m\n\u001b[1;32m      1\u001b[0m \u001b[0;32mwith\u001b[0m \u001b[0mopen\u001b[0m\u001b[0;34m(\u001b[0m\u001b[0;34m\"frame0b.frm\"\u001b[0m\u001b[0;34m,\u001b[0m\u001b[0;34m\"wb\"\u001b[0m\u001b[0;34m)\u001b[0m \u001b[0;32mas\u001b[0m \u001b[0mf\u001b[0m\u001b[0;34m:\u001b[0m\u001b[0;34m\u001b[0m\u001b[0;34m\u001b[0m\u001b[0m\n\u001b[0;32m----> 2\u001b[0;31m     \u001b[0mf\u001b[0m\u001b[0;34m.\u001b[0m\u001b[0mwrite\u001b[0m\u001b[0;34m(\u001b[0m\u001b[0mv\u001b[0m\u001b[0;34m.\u001b[0m\u001b[0mget_chunk\u001b[0m\u001b[0;34m(\u001b[0m\u001b[0;36m1\u001b[0m\u001b[0;34m)\u001b[0m\u001b[0;34m)\u001b[0m\u001b[0;34m\u001b[0m\u001b[0;34m\u001b[0m\u001b[0m\n\u001b[0m",
      "\u001b[0;31mTypeError\u001b[0m: a bytes-like object is required, not 'list'"
     ]
    }
   ],
   "source": [
    "with open(\"frame0b.frm\",\"wb\") as f:\n",
    "    f.write(v.get_chunk(1))"
   ]
  },
  {
   "cell_type": "code",
   "execution_count": 113,
   "id": "later-nashville",
   "metadata": {},
   "outputs": [],
   "source": [
    "def draw_frame_0b(chunk_id,last_frame):\n",
    "    kdata = v.get_chunk(chunk_id)\n",
    "    pos = 0\n",
    "    vga_pos = 0\n",
    "    if kdata[pos] == 0:\n",
    "        print(\"es un 0!!!!\")\n",
    "        pos+=1\n",
    "        while pos<len(kdata):\n",
    "            colors = kdata[pos:pos+2]\n",
    "            pos+=2\n",
    "            maskara = kdata[pos] \n",
    "            pos+=1\n",
    "            color = [ colors[i] for i in maskaras[maskara & 0x0f]]\n",
    "            color2 = [ colors[i] for i in maskaras[(maskara & 0xf0)>>4]]\n",
    "            last_frame[vga_pos:vga_pos+4]=color\n",
    "            last_frame[vga_pos+228:vga_pos+228+4]=color2\n",
    "            vga_pos+=4\n",
    "            if vga_pos%228 == 0:\n",
    "                vga_pos+=228\n",
    "    else:\n",
    "        print(\"es un 1!!!!\")\n",
    "        pos+=1\n",
    "        while pos<len(kdata):\n",
    "            colors = kdata[pos:pos+2]\n",
    "            pos+=2\n",
    "            maskara = kdata[pos] \n",
    "            pos+=1\n",
    "            color = [ colors[i] for i in maskaras[maskara & 0x0f]]\n",
    "            color2 = [ colors[i] for i in maskaras[(maskara & 0xf0)>>4]]\n",
    "            last_frame[vga_pos:vga_pos+4]=color\n",
    "            last_frame[vga_pos+228:vga_pos+228+4]=color2\n",
    "            vga_pos+=4\n",
    "            if vga_pos%228 == 0:\n",
    "                vga_pos+=228\n",
    "        \n",
    "    \n",
    "\n",
    "    \n",
    "        "
   ]
  },
  {
   "cell_type": "code",
   "execution_count": 143,
   "id": "facial-exposure",
   "metadata": {},
   "outputs": [],
   "source": [
    "frame = [0] * 140*228\n",
    "\n"
   ]
  },
  {
   "cell_type": "code",
   "execution_count": 144,
   "id": "stable-tractor",
   "metadata": {},
   "outputs": [
    {
     "name": "stdout",
     "output_type": "stream",
     "text": [
      "es un 0!!!!\n"
     ]
    }
   ],
   "source": [
    "draw_frame_0b(1597,frame)"
   ]
  },
  {
   "cell_type": "code",
   "execution_count": 145,
   "id": "empirical-peace",
   "metadata": {},
   "outputs": [],
   "source": [
    "img = v.apply_palette(v.get_palette(1596),frame)"
   ]
  },
  {
   "cell_type": "code",
   "execution_count": 146,
   "id": "sized-samuel",
   "metadata": {},
   "outputs": [
    {
     "data": {
      "text/plain": [
       "<matplotlib.image.AxesImage at 0x7fde2558d710>"
      ]
     },
     "execution_count": 146,
     "metadata": {},
     "output_type": "execute_result"
    },
    {
     "data": {
      "image/png": "[encoded data removed]",
      "text/plain": [
       "<Figure size 432x288 with 1 Axes>"
      ]
     },
     "metadata": {
      "needs_background": "light"
     },
     "output_type": "display_data"
    }
   ],
   "source": [
    "import matplotlib.pyplot as plt\n",
    "\n",
    "plt.imshow(img)"
   ]
  },
  {
   "cell_type": "code",
   "execution_count": null,
   "id": "suspended-sleep",
   "metadata": {},
   "outputs": [],
   "source": []
  },
  {
   "cell_type": "markdown",
   "id": "affected-discipline",
   "metadata": {},
   "source": [
    "total pixeles: 31920"
   ]
  },
  {
   "cell_type": "code",
   "execution_count": null,
   "id": "working-force",
   "metadata": {},
   "outputs": [],
   "source": [
    "def draw_difference(self, last_frame, kdata):\n",
    "        next_line = 0xE4\n",
    "        # nos saltamos los 2 primeros bytes\n",
    "        pos = 0\n",
    "        num_parts = kdata[pos]\n",
    "        pos += 1\n",
    "        current_line = 0\n",
    "        while num_parts != 0:\n",
    "            num_lines = kdata[pos]\n",
    "            # print(f'L:{num_lineas}')\n",
    "            pos += 2\n",
    "            while num_lines != 0:\n",
    "                num_commands = kdata[pos]\n",
    "                # print(f'\\tC:{num_commands}')\n",
    "                pos += 1\n",
    "                draw_address = current_line\n",
    "                while num_commands != 0:\n",
    "                    draw_address += kdata[pos]\n",
    "                    pos += 1\n",
    "                    draw_type = kdata[pos]\n",
    "                    pos += 1\n",
    "                    repetitions = draw_type & 0x7F\n",
    "                    repetitions += 1\n",
    "\n",
    "                    # print(f'\\t\\tS:{desp_linea} T:{cuantas_veces}')\n",
    "                    if draw_type <= 0x80:\n",
    "                        for _ in range(repetitions):\n",
    "                            color = kdata[pos]\n",
    "                            pos += 1\n",
    "                            # print(f'\\t\\t\\tPA:{hex(color)}')\n",
    "                            last_frame[draw_address] = color\n",
    "                            draw_address += 1\n",
    "                    else:\n",
    "                        color = kdata[pos]\n",
    "                        pos += 1\n",
    "                        # print(f'\\t\\t\\tP:{hex(color)}')\n",
    "                        for _ in range(repetitions):\n",
    "                            last_frame[draw_address] = color\n",
    "                            draw_address += 1\n",
    "\n",
    "                    num_commands -= 1\n",
    "                num_lines -= 1\n",
    "                current_line += next_line\n",
    "            num_parts -= 1\n",
    "        return last_frame"
   ]
  },
  {
   "cell_type": "code",
   "execution_count": null,
   "id": "artistic-hopkins",
   "metadata": {},
   "outputs": [],
   "source": [
    "data = list(v.get_chunk(857) )"
   ]
  },
  {
   "cell_type": "code",
   "execution_count": null,
   "id": "adult-moscow",
   "metadata": {},
   "outputs": [],
   "source": [
    "hex(0x27 / 3)\n"
   ]
  },
  {
   "cell_type": "code",
   "execution_count": null,
   "id": "swedish-cruise",
   "metadata": {},
   "outputs": [],
   "source": [
    "0xf801  "
   ]
  },
  {
   "cell_type": "code",
   "execution_count": null,
   "id": "destroyed-gazette",
   "metadata": {},
   "outputs": [],
   "source": [
    "63840/140"
   ]
  },
  {
   "cell_type": "code",
   "execution_count": null,
   "id": "french-border",
   "metadata": {},
   "outputs": [],
   "source": [
    "36480/140\n"
   ]
  },
  {
   "cell_type": "code",
   "execution_count": null,
   "id": "irish-education",
   "metadata": {},
   "outputs": [],
   "source": [
    "228*140"
   ]
  },
  {
   "cell_type": "code",
   "execution_count": null,
   "id": "interesting-trouble",
   "metadata": {},
   "outputs": [],
   "source": []
  },
  {
   "cell_type": "code",
   "execution_count": null,
   "id": "mental-grant",
   "metadata": {},
   "outputs": [],
   "source": [
    "def draw_difference(last_frame, data):\n",
    "    next_line = 0xE4\n",
    "    kdata = list(data)\n",
    "    # nos saltamos los 2 primeros bytes\n",
    "    pos = 2\n",
    "    num_parts = kdata[pos]\n",
    "    pos += 2\n",
    "    current_line = 0\n",
    "    while num_parts != 0:\n",
    "        num_lines = kdata[pos]\n",
    "        # print(f'L:{num_lineas}')\n",
    "        pos += 2\n",
    "        while num_lines != 0:\n",
    "            num_commands = kdata[pos]\n",
    "            # print(f'\\tC:{num_commands}')\n",
    "            pos += 1\n",
    "            draw_address = current_line\n",
    "            while num_commands != 0:\n",
    "                draw_address += kdata[pos]\n",
    "                pos += 1\n",
    "                draw_type = kdata[pos]\n",
    "                pos += 1\n",
    "                repetitions = draw_type & 0x7F\n",
    "                repetitions += 1\n",
    "\n",
    "                # print(f'\\t\\tS:{desp_linea} T:{cuantas_veces}')\n",
    "                if draw_type <= 0x80:\n",
    "                    for _ in range(repetitions):\n",
    "                        color = kdata[pos]\n",
    "                        pos += 1\n",
    "                        # print(f'\\t\\t\\tPA:{hex(color)}')\n",
    "                        last_frame[draw_address] = color\n",
    "                        draw_address += 1\n",
    "                else:\n",
    "                    color = kdata[pos]\n",
    "                    pos += 1\n",
    "                    # print(f'\\t\\t\\tP:{hex(color)}')\n",
    "                    for _ in range(repetitions):\n",
    "                        last_frame[draw_address] = color\n",
    "                        draw_address += 1\n",
    "\n",
    "                num_commands -= 1\n",
    "            num_lines -= 1\n",
    "            current_line += next_line\n",
    "        num_parts -= 1\n",
    "    return last_frame"
   ]
  },
  {
   "cell_type": "code",
   "execution_count": null,
   "id": "precise-floor",
   "metadata": {},
   "outputs": [],
   "source": [
    "data = v.get_chunk(857)\n",
    "last_frame = [0] * (228*140)"
   ]
  },
  {
   "cell_type": "code",
   "execution_count": null,
   "id": "automotive-argument",
   "metadata": {},
   "outputs": [],
   "source": [
    "r = draw_difference(last_frame, data)"
   ]
  },
  {
   "cell_type": "code",
   "execution_count": null,
   "id": "meaning-bicycle",
   "metadata": {},
   "outputs": [],
   "source": [
    "len(r),len(last_frame)"
   ]
  },
  {
   "cell_type": "code",
   "execution_count": null,
   "id": "urban-updating",
   "metadata": {},
   "outputs": [],
   "source": [
    "img=v.apply_palette(v.get_palette(856),r) "
   ]
  },
  {
   "cell_type": "code",
   "execution_count": null,
   "id": "arctic-processor",
   "metadata": {},
   "outputs": [],
   "source": [
    "plt.imshow(img)"
   ]
  },
  {
   "cell_type": "code",
   "execution_count": null,
   "id": "overall-challenge",
   "metadata": {},
   "outputs": [],
   "source": [
    "v.show_info(0,20)"
   ]
  },
  {
   "cell_type": "code",
   "execution_count": null,
   "id": "limiting-destruction",
   "metadata": {},
   "outputs": [],
   "source": [
    "v.show_info(50000,50001)"
   ]
  },
  {
   "cell_type": "code",
   "execution_count": null,
   "id": "ordered-bullet",
   "metadata": {},
   "outputs": [],
   "source": [
    "d=None\n",
    "with open(\"diff_4746\",\"rb\") as f:\n",
    "    d = f.read()"
   ]
  },
  {
   "cell_type": "code",
   "execution_count": null,
   "id": "acoustic-crime",
   "metadata": {},
   "outputs": [],
   "source": [
    "import numpy as np"
   ]
  },
  {
   "cell_type": "code",
   "execution_count": null,
   "id": "scientific-flesh",
   "metadata": {},
   "outputs": [],
   "source": [
    "d = np.array(list(d),dtype=\"uint8\")"
   ]
  },
  {
   "cell_type": "code",
   "execution_count": null,
   "id": "lightweight-potter",
   "metadata": {},
   "outputs": [],
   "source": [
    "img=v.apply_palette(v.get_palette(4742),d) "
   ]
  },
  {
   "cell_type": "code",
   "execution_count": null,
   "id": "respected-ordering",
   "metadata": {},
   "outputs": [],
   "source": [
    "plt.imshow(img)"
   ]
  },
  {
   "cell_type": "code",
   "execution_count": null,
   "id": "liquid-transsexual",
   "metadata": {},
   "outputs": [],
   "source": [
    "0xa0b7  "
   ]
  },
  {
   "cell_type": "code",
   "execution_count": null,
   "id": "ultimate-buddy",
   "metadata": {},
   "outputs": [],
   "source": []
  }
 ],
 "metadata": {
  "kernelspec": {
   "display_name": "Python 3",
   "language": "python",
   "name": "python3"
  },
  "language_info": {
   "codemirror_mode": {
    "name": "ipython",
    "version": 3
   },
   "file_extension": ".py",
   "mimetype": "text/x-python",
   "name": "python",
   "nbconvert_exporter": "python",
   "pygments_lexer": "ipython3",
   "version": "3.6.9"
  }
 },
 "nbformat": 4,
 "nbformat_minor": 5
}
