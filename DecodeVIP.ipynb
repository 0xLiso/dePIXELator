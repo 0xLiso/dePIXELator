{
 "cells": [
  {
   "cell_type": "code",
   "execution_count": null,
   "id": "discrete-metro",
   "metadata": {},
   "outputs": [],
   "source": []
  },
  {
   "cell_type": "code",
   "execution_count": 1,
   "id": "tender-accounting",
   "metadata": {},
   "outputs": [],
   "source": [
    "import struct\n",
    "import os\n",
    "import sys"
   ]
  },
  {
   "cell_type": "code",
   "execution_count": 2,
   "id": "subjective-fellowship",
   "metadata": {},
   "outputs": [],
   "source": [
    "import numpy as np\n",
    "import matplotlib.pyplot as plt"
   ]
  },
  {
   "cell_type": "code",
   "execution_count": null,
   "id": "unnecessary-taxation",
   "metadata": {},
   "outputs": [],
   "source": []
  },
  {
   "cell_type": "code",
   "execution_count": null,
   "id": "acoustic-theme",
   "metadata": {},
   "outputs": [],
   "source": []
  },
  {
   "cell_type": "code",
   "execution_count": 3,
   "id": "lucky-trigger",
   "metadata": {},
   "outputs": [],
   "source": [
    "class Chunk:\n",
    "    __header_size = 8;\n",
    "    header = None\n",
    "    data_position = -1\n",
    "    fd = None\n",
    "    def __init__(self,file):\n",
    "        initial_pos = file.tell()\n",
    "        self.header=file.read(self.__header_size)\n",
    "        if not self.header:\n",
    "            raise EOFError(\"EOF reached\")\n",
    "        if self.header[6]!=0x60 or self.header[7]!=0xc0:\n",
    "            file.seek(initial_pos,0)\n",
    "            raise LookupError(\"Chunk Header should end with 0x60c0\")\n",
    "        self.data_size = (self.header[1]*256 ) + self.header[0]\n",
    "        self.nframe  = self.header[5]*0xff + self.header[4]\n",
    "        self.type = self.header[3]\n",
    "        self.data_position = file.tell()\n",
    "        file.seek(self.data_size,1)\n",
    "        self.fd=file\n",
    "    \n",
    "    def get_data(self):\n",
    "        initial_pos = self.fd.tell()\n",
    "        self.fd.seek(self.data_position,0)\n",
    "        result = self.fd.read(self.data_size)\n",
    "        self.fd.seek(initial_pos,0)\n",
    "        return result\n",
    "        "
   ]
  },
  {
   "cell_type": "code",
   "execution_count": 124,
   "id": "interim-architect",
   "metadata": {},
   "outputs": [],
   "source": [
    "class VIPFile:\n",
    "    fd = None\n",
    "    filename = \"\"\n",
    "    chunks = []\n",
    "    initial_offset = 0x20\n",
    "    def __init__(self,filename,initial_offset=0x20,max_chunks=-1):\n",
    "        self.filename = filename\n",
    "        self.fd = open(filename,\"rb\")\n",
    "        self.initial_offset = initial_offset\n",
    "        self.max_chunks=max_chunks\n",
    "    \n",
    "    def __del__(self):\n",
    "        if self.fd:\n",
    "            self.fd.close()\n",
    "            \n",
    "    def anal_vip_file(self):\n",
    "        self.fd.seek(0,0)\n",
    "        self.fd.seek(self.initial_offset,1)\n",
    "        while True:\n",
    "            try:\n",
    "                tmp_chunk = Chunk(self.fd)\n",
    "                self.chunks.append(tmp_chunk)\n",
    "                if self.max_chunks>0 and self.max_chunks<len(self.chunks):\n",
    "                    break\n",
    "            except EOFError as e:\n",
    "                break\n",
    "            except Exception as e:\n",
    "                print(e)\n",
    "                raise e\n",
    "            \n",
    "    def show_info(self,init=0,end=-1,filter_by=[]):\n",
    "        if end<0:\n",
    "            end=len(self.chunks)\n",
    "        for count,bh in  enumerate(self.chunks[init:end]):\n",
    "            h=bh.header\n",
    "            endset = \"💩💩💩💩💩💩💩💩💩💩💩\"\n",
    "            size=bh.data_size\n",
    "            \n",
    "            text=\"\"\n",
    "            for i,b in enumerate(h):\n",
    "                text+=f\"{b:02x} \" \n",
    "                if i==3:\n",
    "                    if b==4:\n",
    "                        endset = \"🗝️\"\n",
    "                    elif b==7:\n",
    "                        endset = \"🎵\"\n",
    "                    elif b==2 :\n",
    "                        endset = \"🎨\"\n",
    "                    elif b==5:\n",
    "                        endset = \"🎬\"\n",
    "            if endset in filter_by or len(filter_by)==0:\n",
    "                print(f\"{count+init:06}: [{size:>6}]\",end=\" \")\n",
    "                print(f\"{text} {endset}\")\n",
    "            \n",
    "    def show_info_acc(self,init=0,end=-1,filter_by=[]):\n",
    "        res=[]\n",
    "        if end<0:\n",
    "            end=len(self.chunks)\n",
    "        for count,bh in  enumerate(self.chunks[init:end]):\n",
    "            h=bh.header\n",
    "            size=bh.data_size\n",
    "            \n",
    "            text=\"\"\n",
    "            for i,b in enumerate(h):\n",
    "                if i==3:\n",
    "                    if b==5:\n",
    "                        res.append(count+init)\n",
    "        return res\n",
    "            \n",
    "    def pinta_paleta(self,id):\n",
    "        paleta=self.get_paleta(id)\n",
    "        #pintaremos\n",
    "        colors = [x for x in range(len(paleta))]\n",
    "        while len(colors)<256:\n",
    "            colors.append(0)\n",
    "        pal =  np.array( paleta ,dtype=\"uint8\") \n",
    "        indices = np.array(colors)\n",
    "        plt.imshow(pal[indices].reshape( (16,16,3) ) )\n",
    "        \n",
    "    def get_paleta(self,id):\n",
    "        raw = self.chunks[id].get_data()\n",
    "        paleta = []\n",
    "        paleta.append((0,0,0))\n",
    "        i=2\n",
    "        while True:\n",
    "            try:\n",
    "                r,g,b = raw[i:i+3] # leemos RGB\n",
    "                i+=3\n",
    "                paleta.append( (r*4,g*4,b*4))\n",
    "            except Exception as e:\n",
    "                break\n",
    "        return paleta\n",
    "        \n",
    "        \n",
    "    \n",
    "        "
   ]
  },
  {
   "cell_type": "code",
   "execution_count": 125,
   "id": "ordered-ability",
   "metadata": {},
   "outputs": [],
   "source": [
    "#f.seek(0x0DF5B6A0,0)\n",
    "#f.seek(0x0135a684,0)\n",
    "\n",
    "v =VIPFile(\"../data/game/iso/SN00002.VIP\",0x0DF5B6A0,10000)"
   ]
  },
  {
   "cell_type": "code",
   "execution_count": 126,
   "id": "vocal-necklace",
   "metadata": {},
   "outputs": [
    {
     "data": {
      "text/plain": [
       "'0xdf5b680'"
      ]
     },
     "execution_count": 126,
     "metadata": {},
     "output_type": "execute_result"
    }
   ],
   "source": [
    "hex(0x0DF5B6A0  - 0x20)"
   ]
  },
  {
   "cell_type": "code",
   "execution_count": 127,
   "id": "quick-nebraska",
   "metadata": {},
   "outputs": [],
   "source": [
    "v.anal_vip_file()"
   ]
  },
  {
   "cell_type": "code",
   "execution_count": 128,
   "id": "opening-thing",
   "metadata": {},
   "outputs": [
    {
     "data": {
      "image/png": "[encoded data removed]",
      "text/plain": [
       "<Figure size 432x288 with 1 Axes>"
      ]
     },
     "metadata": {
      "needs_background": "light"
     },
     "output_type": "display_data"
    }
   ],
   "source": [
    "v.pinta_paleta(4742)"
   ]
  },
  {
   "cell_type": "code",
   "execution_count": 129,
   "id": "light-colombia",
   "metadata": {},
   "outputs": [
    {
     "data": {
      "text/plain": [
       "(54896, 31920)"
      ]
     },
     "execution_count": 129,
     "metadata": {},
     "output_type": "execute_result"
    }
   ],
   "source": [
    "0xd670, 228*140"
   ]
  },
  {
   "cell_type": "code",
   "execution_count": null,
   "id": "municipal-diabetes",
   "metadata": {},
   "outputs": [],
   "source": [
    "\n",
    "    "
   ]
  },
  {
   "cell_type": "code",
   "execution_count": 130,
   "id": "golden-observation",
   "metadata": {},
   "outputs": [
    {
     "ename": "error",
     "evalue": "unpack requires a buffer of 2 bytes",
     "output_type": "error",
     "traceback": [
      "\u001b[0;31m\u001b[0m",
      "\u001b[0;31merror\u001b[0mTraceback (most recent call last)",
      "\u001b[0;32m<ipython-input-130-bba4a64683e6>\u001b[0m in \u001b[0;36m<module>\u001b[0;34m\u001b[0m\n\u001b[1;32m      1\u001b[0m \u001b[0ml\u001b[0m \u001b[0;34m=\u001b[0m \u001b[0;34m[\u001b[0m\u001b[0;36m0x44\u001b[0m\u001b[0;34m,\u001b[0m \u001b[0;36m0\u001b[0m\u001b[0;34m,\u001b[0m \u001b[0;36m0x4\u001b[0m\u001b[0;34m,\u001b[0m\u001b[0;36m0\u001b[0m \u001b[0;34m]\u001b[0m\u001b[0;34m\u001b[0m\u001b[0;34m\u001b[0m\u001b[0m\n\u001b[0;32m----> 2\u001b[0;31m \u001b[0mhex\u001b[0m\u001b[0;34m(\u001b[0m\u001b[0mcalcula_salto\u001b[0m\u001b[0;34m(\u001b[0m\u001b[0ml\u001b[0m\u001b[0;34m,\u001b[0m\u001b[0;36m0\u001b[0m\u001b[0;34m)\u001b[0m\u001b[0;34m)\u001b[0m\u001b[0;34m\u001b[0m\u001b[0;34m\u001b[0m\u001b[0m\n\u001b[0m\u001b[1;32m      3\u001b[0m \u001b[0;34m\u001b[0m\u001b[0m\n",
      "\u001b[0;32m<ipython-input-103-7a7a55fe8d66>\u001b[0m in \u001b[0;36mcalcula_salto\u001b[0;34m(vaits, posicion_inicial_memoria)\u001b[0m\n\u001b[1;32m      4\u001b[0m     \u001b[0msalto\u001b[0m \u001b[0ma\u001b[0m\u001b[0;34m:\u001b[0m \u001b[0;36m0x618a\u001b[0m\u001b[0;34m\u001b[0m\u001b[0;34m\u001b[0m\u001b[0m\n\u001b[1;32m      5\u001b[0m     Nos llegaran como 44 00 04 00  hay que psarlo a LSB 0x00040044\"\"\"\n\u001b[0;32m----> 6\u001b[0;31m     \u001b[0max\u001b[0m \u001b[0;34m=\u001b[0m \u001b[0mstruct\u001b[0m\u001b[0;34m.\u001b[0m\u001b[0munpack\u001b[0m\u001b[0;34m(\u001b[0m\u001b[0;34m\"<H\"\u001b[0m\u001b[0;34m,\u001b[0m\u001b[0mbytearray\u001b[0m\u001b[0;34m(\u001b[0m\u001b[0mvaits\u001b[0m\u001b[0;34m)\u001b[0m\u001b[0;34m)\u001b[0m\u001b[0;34m\u001b[0m\u001b[0;34m\u001b[0m\u001b[0m\n\u001b[0m\u001b[1;32m      7\u001b[0m     \u001b[0;32mreturn\u001b[0m \u001b[0mposicion_inicial_memoria\u001b[0m \u001b[0;34m+\u001b[0m \u001b[0max\u001b[0m\u001b[0;34m[\u001b[0m\u001b[0;36m0\u001b[0m\u001b[0;34m]\u001b[0m\u001b[0;34m*\u001b[0m\u001b[0;36m228\u001b[0m\u001b[0;34m\u001b[0m\u001b[0;34m\u001b[0m\u001b[0m\n",
      "\u001b[0;31merror\u001b[0m: unpack requires a buffer of 2 bytes"
     ]
    }
   ],
   "source": [
    "l = [0x44, 0, 0x4,0 ]\n",
    "hex(calcula_salto(l,0))\n",
    "\n"
   ]
  },
  {
   "cell_type": "code",
   "execution_count": 130,
   "id": "funky-deviation",
   "metadata": {},
   "outputs": [
    {
     "data": {
      "text/plain": [
       "5"
      ]
     },
     "execution_count": 130,
     "metadata": {},
     "output_type": "execute_result"
    }
   ],
   "source": [
    "0x85 & 0x7f"
   ]
  },
  {
   "cell_type": "code",
   "execution_count": 132,
   "id": "driving-dietary",
   "metadata": {},
   "outputs": [
    {
     "data": {
      "text/plain": [
       "80"
      ]
     },
     "execution_count": 132,
     "metadata": {},
     "output_type": "execute_result"
    }
   ],
   "source": [
    "0x50"
   ]
  },
  {
   "cell_type": "code",
   "execution_count": null,
   "id": "violent-coalition",
   "metadata": {},
   "outputs": [],
   "source": []
  },
  {
   "cell_type": "code",
   "execution_count": null,
   "id": "disciplinary-equality",
   "metadata": {},
   "outputs": [],
   "source": []
  },
  {
   "cell_type": "code",
   "execution_count": null,
   "id": "disabled-workstation",
   "metadata": {},
   "outputs": [],
   "source": []
  },
  {
   "cell_type": "code",
   "execution_count": null,
   "id": "married-protection",
   "metadata": {},
   "outputs": [],
   "source": []
  },
  {
   "cell_type": "code",
   "execution_count": null,
   "id": "rising-boutique",
   "metadata": {},
   "outputs": [],
   "source": []
  },
  {
   "cell_type": "code",
   "execution_count": 131,
   "id": "annual-restoration",
   "metadata": {},
   "outputs": [
    {
     "data": {
      "text/plain": [
       "[4, 7, 10, 13, 16, 19]"
      ]
     },
     "execution_count": 131,
     "metadata": {},
     "output_type": "execute_result"
    }
   ],
   "source": [
    "v.show_info_acc(0,20,[\"🎬\"] )#,[\"🎨\",\"🗝️\"])"
   ]
  },
  {
   "cell_type": "code",
   "execution_count": 19,
   "id": "backed-logic",
   "metadata": {},
   "outputs": [
    {
     "data": {
      "text/plain": [
       "1023"
      ]
     },
     "execution_count": 19,
     "metadata": {},
     "output_type": "execute_result"
    }
   ],
   "source": [
    "0xe3 & 0x7f, 0xff& 0x7f\n",
    "\n",
    "#0x80+0x64\n",
    "0x3ff"
   ]
  },
  {
   "cell_type": "code",
   "execution_count": 15,
   "id": "ahead-banks",
   "metadata": {},
   "outputs": [
    {
     "data": {
      "text/plain": [
       "192"
      ]
     },
     "execution_count": 15,
     "metadata": {},
     "output_type": "execute_result"
    }
   ],
   "source": [
    "len(v.get_paleta(4742))"
   ]
  },
  {
   "cell_type": "code",
   "execution_count": 17,
   "id": "sapphire-expansion",
   "metadata": {},
   "outputs": [],
   "source": [
    "raw1 = v.chunks[184].get_data()"
   ]
  },
  {
   "cell_type": "code",
   "execution_count": 18,
   "id": "chronic-oregon",
   "metadata": {},
   "outputs": [],
   "source": [
    "with open(\"puede_que_un_keyframe_184.frm\",\"wb\") as f:\n",
    "    f.write(raw1)"
   ]
  },
  {
   "cell_type": "code",
   "execution_count": 17,
   "id": "deluxe-airline",
   "metadata": {},
   "outputs": [
    {
     "data": {
      "text/plain": [
       "[(255, 1),\n",
       " (227, 1),\n",
       " (255, 1),\n",
       " (227, 1),\n",
       " (255, 1),\n",
       " (227, 1),\n",
       " (255, 1),\n",
       " (227, 1),\n",
       " (255, 1),\n",
       " (227, 1)]"
      ]
     },
     "execution_count": 17,
     "metadata": {},
     "output_type": "execute_result"
    }
   ],
   "source": [
    " kdata = list(v.chunks[1].get_data())\n",
    "list(zip(kdata[::2], kdata[1::2]))[:10]"
   ]
  },
  {
   "cell_type": "code",
   "execution_count": 18,
   "id": "disturbed-personality",
   "metadata": {},
   "outputs": [
    {
     "data": {
      "text/plain": [
       "'0x893a'"
      ]
     },
     "execution_count": 18,
     "metadata": {},
     "output_type": "execute_result"
    }
   ],
   "source": [
    "hex(0xc8a + (0x8c * 0xe4))"
   ]
  },
  {
   "cell_type": "code",
   "execution_count": 132,
   "id": "foster-japan",
   "metadata": {},
   "outputs": [],
   "source": [
    "def draw_kifrim(kifrim_id,paleta_id):\n",
    "    res = []\n",
    "    altoVideo = 0x8c\n",
    "    anchoVideo = 0xe4\n",
    "    pal = v.get_paleta(paleta_id)\n",
    "    kdata = list(v.chunks[kifrim_id].get_data())\n",
    "    for b in kdata:\n",
    "        if b == 0:\n",
    "            res += [255,0,0] * anchoVideo\n",
    "            continue\n",
    "        current_val = b\n",
    "        nreps = (current_val & 0x7f ) +1\n",
    "        col = [0,0,0]\n",
    "        try:\n",
    "             col=pal[next()]                \n",
    "        except:\n",
    "            pass\n",
    "        res += col * nreps\n",
    "\n",
    "            \n",
    "    return np.array(res,dtype=\"uint\").reshape(altoVideo,anchoVideo,3)\n",
    "            \n",
    "        "
   ]
  },
  {
   "cell_type": "code",
   "execution_count": 133,
   "id": "handy-clinic",
   "metadata": {},
   "outputs": [],
   "source": [
    "def calcula_salto(vaits, posicion_inicial_memoria=0xc8a):\n",
    "    \"\"\"Se supone que son 4 bytes.\n",
    "    en el ejemplo viene como 0x00040044 y nos da un \n",
    "    salto a: 0x618a\n",
    "    Nos llegaran como 44 00 04 00  hay que psarlo a LSB 0x00040044\"\"\"\n",
    "    ax = struct.unpack(\"<H\",bytearray(vaits))\n",
    "    return posicion_inicial_memoria + ax[0]*228"
   ]
  },
  {
   "cell_type": "code",
   "execution_count": 258,
   "id": "spoken-senior",
   "metadata": {},
   "outputs": [],
   "source": [
    "def draw_difference(frame_anterior,diff_id,paleta_id):\n",
    "    posicion_inicial=0\n",
    "    siguiente_linea = 0xe4\n",
    "    pal = v.get_paleta(paleta_id)\n",
    "    kdata = list(v.chunks[diff_id].get_data())\n",
    "    # nos saltamos los 2 primeros bytes\n",
    "    pos=2\n",
    "    nveces = kdata[pos]\n",
    "    pos+=2\n",
    "    salto=0\n",
    "    while nveces != 0:\n",
    "        salto+=calcula_salto(kdata[pos:pos+2],0)\n",
    "        pos+=2\n",
    "        num_lineas=kdata[pos]\n",
    "        pos+=2\n",
    "        while num_lineas != 0:\n",
    "            num_commands = kdata[pos]\n",
    "            pos+=1\n",
    "            while num_commands != 0:\n",
    "                salto_linea = kdata[pos]\n",
    "                pos+=1\n",
    "                type_dibujo = kdata[pos]\n",
    "                pos+=1\n",
    "                if type_dibujo<= 0x80:\n",
    "                    #copiar los sigueintes n bytes\n",
    "                    effective_pos = salto+salto_linea;\n",
    "                    cuantas_veces = type_dibujo & 0x7f\n",
    "                    cuantas_veces +=1\n",
    "                    frame_anterior[effective_pos:effective_pos+cuantas_veces]=kdata[pos:pos+cuantas_veces]\n",
    "                    pos+=cuantas_veces\n",
    "                    effective_pos+=cuantas_veces\n",
    "                else:\n",
    "                    effective_pos = salto+salto_linea;\n",
    "                    color = kdata[pos]\n",
    "                    pos+=1\n",
    "                    cuantas_veces = type_dibujo & 0x7f\n",
    "                    cuantas_veces+=1\n",
    "                    for i in range(cuantas_veces):\n",
    "                        frame_anterior[effective_pos+i]=color\n",
    "                    effective_pos+=cuantas_veces\n",
    "                num_commands-=1\n",
    "            num_lineas-=1\n",
    "            salto+=siguiente_linea\n",
    "        nveces-=1\n",
    "    return frame_anterior\n",
    "        \n",
    "    "
   ]
  },
  {
   "cell_type": "code",
   "execution_count": 259,
   "id": "temporal-regard",
   "metadata": {},
   "outputs": [],
   "source": [
    "\n",
    "\n",
    "\n",
    "def draw_image_with_paleta(paleta,img,size):\n",
    "    pal =  np.array( paleta ,dtype=\"uint8\") \n",
    "    indices = np.array(img,dtype=\"uint8\")\n",
    "    plt.imshow(pal[indices].reshape( (size[0],size[1],3) ) )"
   ]
  },
  {
   "cell_type": "code",
   "execution_count": 260,
   "id": "dying-efficiency",
   "metadata": {},
   "outputs": [],
   "source": [
    "frame_anterior = [0 for x in range(228*140)]"
   ]
  },
  {
   "cell_type": "code",
   "execution_count": 261,
   "id": "european-sailing",
   "metadata": {},
   "outputs": [
    {
     "data": {
      "text/plain": [
       "[4]"
      ]
     },
     "execution_count": 261,
     "metadata": {},
     "output_type": "execute_result"
    }
   ],
   "source": [
    " v.show_info_acc(0,5,[\"🎬\"] )"
   ]
  },
  {
   "cell_type": "code",
   "execution_count": 262,
   "id": "absolute-cookbook",
   "metadata": {},
   "outputs": [],
   "source": [
    "for i in v.show_info_acc(0,20,[\"🎬\"] ):\n",
    "    draw_difference(frame_anterior,i,0)\n"
   ]
  },
  {
   "cell_type": "code",
   "execution_count": 263,
   "id": "hourly-catering",
   "metadata": {},
   "outputs": [
    {
     "data": {
      "image/png": "[encoded data removed]",
      "text/plain": [
       "<Figure size 432x288 with 1 Axes>"
      ]
     },
     "metadata": {
      "needs_background": "light"
     },
     "output_type": "display_data"
    }
   ],
   "source": [
    "pal = v.get_paleta(0)\n",
    "draw_image_with_paleta(pal,frame_anterior,(140,228))\n"
   ]
  },
  {
   "cell_type": "code",
   "execution_count": 264,
   "id": "congressional-nation",
   "metadata": {},
   "outputs": [],
   "source": [
    "a = [1,2,3]\n",
    "b = [4,5]"
   ]
  },
  {
   "cell_type": "code",
   "execution_count": 86,
   "id": "third-phoenix",
   "metadata": {},
   "outputs": [],
   "source": [
    "a[1:3]=b[0:2]"
   ]
  },
  {
   "cell_type": "code",
   "execution_count": 87,
   "id": "necessary-import",
   "metadata": {},
   "outputs": [
    {
     "data": {
      "text/plain": [
       "[1, 4, 5]"
      ]
     },
     "execution_count": 87,
     "metadata": {},
     "output_type": "execute_result"
    }
   ],
   "source": [
    "a"
   ]
  },
  {
   "cell_type": "code",
   "execution_count": null,
   "id": "accomplished-tiger",
   "metadata": {},
   "outputs": [],
   "source": [
    "172800/3600"
   ]
  },
  {
   "cell_type": "code",
   "execution_count": 22,
   "id": "confidential-principle",
   "metadata": {},
   "outputs": [],
   "source": [
    "raw2 = []\n",
    "\n",
    "for i,r in enumerate(list(raw1)):\n",
    "    if i%2 == 0:\n",
    "        raw2.append(0x0)\n",
    "        continue\n",
    "    if r>0xc0:\n",
    "        raw2.append(0xFF)\n",
    "    else:\n",
    "        raw2.append(r)"
   ]
  },
  {
   "cell_type": "code",
   "execution_count": 23,
   "id": "animated-grass",
   "metadata": {},
   "outputs": [],
   "source": [
    "with open(\"puede_que_un_keyframe_4743b.frm\",\"wb\") as f:\n",
    "    f.write(np.array(raw2,dtype=\"uint8\"))"
   ]
  },
  {
   "cell_type": "code",
   "execution_count": 69,
   "id": "casual-recorder",
   "metadata": {},
   "outputs": [],
   "source": [
    "\n"
   ]
  },
  {
   "cell_type": "code",
   "execution_count": 25,
   "id": "northern-kernel",
   "metadata": {},
   "outputs": [],
   "source": [
    "pal =None \n",
    "with open(\"../data/game/iso/FILES/FINALPAL.PPS\",\"rb\") as fpal:\n",
    "    data=fpal.read()\n",
    "    pal = data[2:]\n",
    "    \n",
    "paleta = []\n",
    "paleta.append( (0,0,0))\n",
    "i=0\n",
    "while True:\n",
    "    try:\n",
    "        r,g,b = pal[i:i+3] # leemos RGB\n",
    "        i+=3\n",
    "        paleta.append( (r*4,g*4,b*4))\n",
    "    except Exception as e:\n",
    "        break"
   ]
  },
  {
   "cell_type": "code",
   "execution_count": 26,
   "id": "stainless-favorite",
   "metadata": {},
   "outputs": [],
   "source": [
    "raw =None \n",
    "with open(\"../data/game/iso/FILES/FINALPAN.PSP\",\"rb\") as fpal:\n",
    "    data=fpal.read(4)\n",
    "    w = data[1]*256+data[0]\n",
    "    h = data[3]*256+data[2]\n",
    "    raw=list(fpal.read(w*h))"
   ]
  },
  {
   "cell_type": "code",
   "execution_count": 72,
   "id": "educated-working",
   "metadata": {},
   "outputs": [
    {
     "ename": "ValueError",
     "evalue": "cannot reshape array of size 96315 into shape (140,228,3)",
     "output_type": "error",
     "traceback": [
      "\u001b[0;31m\u001b[0m",
      "\u001b[0;31mValueError\u001b[0mTraceback (most recent call last)",
      "\u001b[0;32m<ipython-input-72-de52413a5111>\u001b[0m in \u001b[0;36m<module>\u001b[0;34m\u001b[0m\n\u001b[1;32m      1\u001b[0m \u001b[0mpal\u001b[0m \u001b[0;34m=\u001b[0m \u001b[0mv\u001b[0m\u001b[0;34m.\u001b[0m\u001b[0mget_paleta\u001b[0m\u001b[0;34m(\u001b[0m\u001b[0;36m0\u001b[0m\u001b[0;34m)\u001b[0m\u001b[0;34m\u001b[0m\u001b[0;34m\u001b[0m\u001b[0m\n\u001b[0;32m----> 2\u001b[0;31m \u001b[0mdraw_image_with_paleta\u001b[0m\u001b[0;34m(\u001b[0m\u001b[0mpal\u001b[0m\u001b[0;34m,\u001b[0m\u001b[0mnew_frame\u001b[0m\u001b[0;34m,\u001b[0m\u001b[0;34m(\u001b[0m\u001b[0;36m140\u001b[0m\u001b[0;34m,\u001b[0m\u001b[0;36m228\u001b[0m\u001b[0;34m)\u001b[0m\u001b[0;34m)\u001b[0m\u001b[0;34m\u001b[0m\u001b[0;34m\u001b[0m\u001b[0m\n\u001b[0m\u001b[1;32m      3\u001b[0m \u001b[0;34m\u001b[0m\u001b[0m\n",
      "\u001b[0;32m<ipython-input-69-299e62fca23c>\u001b[0m in \u001b[0;36mdraw_image_with_paleta\u001b[0;34m(paleta, img, size)\u001b[0m\n\u001b[1;32m      2\u001b[0m     \u001b[0mpal\u001b[0m \u001b[0;34m=\u001b[0m  \u001b[0mnp\u001b[0m\u001b[0;34m.\u001b[0m\u001b[0marray\u001b[0m\u001b[0;34m(\u001b[0m \u001b[0mpaleta\u001b[0m \u001b[0;34m,\u001b[0m\u001b[0mdtype\u001b[0m\u001b[0;34m=\u001b[0m\u001b[0;34m\"uint8\"\u001b[0m\u001b[0;34m)\u001b[0m\u001b[0;34m\u001b[0m\u001b[0;34m\u001b[0m\u001b[0m\n\u001b[1;32m      3\u001b[0m     \u001b[0mindices\u001b[0m \u001b[0;34m=\u001b[0m \u001b[0mnp\u001b[0m\u001b[0;34m.\u001b[0m\u001b[0marray\u001b[0m\u001b[0;34m(\u001b[0m\u001b[0mimg\u001b[0m\u001b[0;34m,\u001b[0m\u001b[0mdtype\u001b[0m\u001b[0;34m=\u001b[0m\u001b[0;34m\"uint8\"\u001b[0m\u001b[0;34m)\u001b[0m\u001b[0;34m\u001b[0m\u001b[0;34m\u001b[0m\u001b[0m\n\u001b[0;32m----> 4\u001b[0;31m     \u001b[0mplt\u001b[0m\u001b[0;34m.\u001b[0m\u001b[0mimshow\u001b[0m\u001b[0;34m(\u001b[0m\u001b[0mpal\u001b[0m\u001b[0;34m[\u001b[0m\u001b[0mindices\u001b[0m\u001b[0;34m]\u001b[0m\u001b[0;34m.\u001b[0m\u001b[0mreshape\u001b[0m\u001b[0;34m(\u001b[0m \u001b[0;34m(\u001b[0m\u001b[0msize\u001b[0m\u001b[0;34m[\u001b[0m\u001b[0;36m0\u001b[0m\u001b[0;34m]\u001b[0m\u001b[0;34m,\u001b[0m\u001b[0msize\u001b[0m\u001b[0;34m[\u001b[0m\u001b[0;36m1\u001b[0m\u001b[0;34m]\u001b[0m\u001b[0;34m,\u001b[0m\u001b[0;36m3\u001b[0m\u001b[0;34m)\u001b[0m \u001b[0;34m)\u001b[0m \u001b[0;34m)\u001b[0m\u001b[0;34m\u001b[0m\u001b[0;34m\u001b[0m\u001b[0m\n\u001b[0m",
      "\u001b[0;31mValueError\u001b[0m: cannot reshape array of size 96315 into shape (140,228,3)"
     ]
    }
   ],
   "source": [
    "\n"
   ]
  },
  {
   "cell_type": "code",
   "execution_count": 28,
   "id": "broke-reason",
   "metadata": {},
   "outputs": [
    {
     "data": {
      "image/png": "[encoded data removed]",
      "text/plain": [
       "<Figure size 432x288 with 1 Axes>"
      ]
     },
     "metadata": {
      "needs_background": "light"
     },
     "output_type": "display_data"
    }
   ],
   "source": [
    "v.pinta_paleta(0)"
   ]
  },
  {
   "cell_type": "code",
   "execution_count": 29,
   "id": "dried-lemon",
   "metadata": {},
   "outputs": [
    {
     "name": "stdout",
     "output_type": "stream",
     "text": [
      "000001: [   560] 30 02 02 04 f0 d2 60 c0  🗝️\n",
      "000645: [   560] 30 02 02 04 9c d4 60 c0  🗝️\n",
      "001807: [   897] 81 03 02 04 a0 d7 60 c0  🗝️\n",
      "003212: [  8049] 71 1f 02 04 48 db 60 c0  🗝️\n",
      "004743: [ 41143] b7 a0 02 04 44 df 60 c0  🗝️\n"
     ]
    }
   ],
   "source": [
    "v.show_info(0,30000,[\"🗝️\"])"
   ]
  },
  {
   "cell_type": "code",
   "execution_count": 30,
   "id": "hundred-press",
   "metadata": {},
   "outputs": [],
   "source": [
    "mypal = v.get_paleta(0)"
   ]
  },
  {
   "cell_type": "code",
   "execution_count": 31,
   "id": "advance-cooler",
   "metadata": {},
   "outputs": [],
   "source": [
    "raw=v.chunks[1].get_data()"
   ]
  },
  {
   "cell_type": "code",
   "execution_count": 32,
   "id": "tribal-ceiling",
   "metadata": {},
   "outputs": [
    {
     "data": {
      "text/plain": [
       "140.0"
      ]
     },
     "execution_count": 32,
     "metadata": {},
     "output_type": "execute_result"
    }
   ],
   "source": [
    "hex(57),hex(35)\n",
    "0x1ff,0x01e3\n",
    "\n",
    "0x230/4"
   ]
  },
  {
   "cell_type": "code",
   "execution_count": null,
   "id": "coordinate-junior",
   "metadata": {},
   "outputs": [],
   "source": [
    "rawpar = [ x for i,x in enumerate(list(raw)) if i%2==0]\n",
    "len(rawpar)\n",
    "rawpar[:10]"
   ]
  },
  {
   "cell_type": "code",
   "execution_count": null,
   "id": "valued-sugar",
   "metadata": {},
   "outputs": [],
   "source": [
    "sum(rawpar),228*140"
   ]
  },
  {
   "cell_type": "code",
   "execution_count": null,
   "id": "american-context",
   "metadata": {},
   "outputs": [],
   "source": [
    "draw_image_with_paleta(mypal,list(rawpar),(3,10))\n"
   ]
  },
  {
   "cell_type": "code",
   "execution_count": null,
   "id": "inclusive-plasma",
   "metadata": {},
   "outputs": [],
   "source": []
  },
  {
   "cell_type": "code",
   "execution_count": null,
   "id": "assisted-missile",
   "metadata": {},
   "outputs": [],
   "source": [
    "raw = v.chunks[3212].get_data()"
   ]
  },
  {
   "cell_type": "code",
   "execution_count": null,
   "id": "brief-investor",
   "metadata": {},
   "outputs": [],
   "source": [
    "with open(\"puede_que_un_keyframe_3212.frm\",\"wb\") as f:\n",
    "    f.write(raw)"
   ]
  },
  {
   "cell_type": "code",
   "execution_count": null,
   "id": "minor-declaration",
   "metadata": {},
   "outputs": [],
   "source": [
    "raw2 = []\n",
    "\n",
    "for r in list(raw):\n",
    "    if r<200:\n",
    "        raw2.append(0x11)\n",
    "    else:\n",
    "        raw2.append(r)"
   ]
  },
  {
   "cell_type": "code",
   "execution_count": null,
   "id": "efficient-bathroom",
   "metadata": {},
   "outputs": [],
   "source": [
    "with open(\"puede_que_un_keyframe_3b.frm\",\"wb\") as f:\n",
    "    f.write(np.array(raw2,dtype=\"uint8\"))"
   ]
  },
  {
   "cell_type": "code",
   "execution_count": null,
   "id": "recognized-platform",
   "metadata": {},
   "outputs": [],
   "source": [
    "len(raw2),len(raw)"
   ]
  },
  {
   "cell_type": "code",
   "execution_count": null,
   "id": "egyptian-puppy",
   "metadata": {},
   "outputs": [],
   "source": [
    "np.array(raw2)"
   ]
  },
  {
   "cell_type": "code",
   "execution_count": null,
   "id": "combined-suite",
   "metadata": {},
   "outputs": [],
   "source": []
  }
 ],
 "metadata": {
  "kernelspec": {
   "display_name": "Python 3",
   "language": "python",
   "name": "python3"
  },
  "language_info": {
   "codemirror_mode": {
    "name": "ipython",
    "version": 3
   },
   "file_extension": ".py",
   "mimetype": "text/x-python",
   "name": "python",
   "nbconvert_exporter": "python",
   "pygments_lexer": "ipython3",
   "version": "3.6.9"
  }
 },
 "nbformat": 4,
 "nbformat_minor": 5
}
